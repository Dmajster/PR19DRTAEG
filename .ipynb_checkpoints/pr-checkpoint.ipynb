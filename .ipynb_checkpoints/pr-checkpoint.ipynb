{
 "cells": [
  {
   "cell_type": "code",
   "execution_count": 37,
   "metadata": {},
   "outputs": [],
   "source": [
    "from csv import reader\n",
    "import numpy as np\n",
    "np.set_printoptions(suppress=True)\n",
    "\n",
    "\n",
    "with open('dataset/hero_names.csv', 'rt', encoding='utf-8') as f:\n",
    "    heroes = [row for row in reader(f)]\n",
    "heroes = heroes[1:]\n",
    "\n",
    "\n",
    "with open('dataset/players.csv', 'rt', encoding='utf-8') as f:\n",
    "    players = [row for row in reader(f)]\n",
    "players = np.array(players[1:])\n",
    "\n",
    "\n",
    "with open('dataset/match_outcomes.csv', 'rt', encoding='utf-8') as f:\n",
    "    match_outcomes = [row for row in reader(f)]\n",
    "match_outcomes = np.array(match_outcomes[1:])\n",
    "\n",
    "\n"
   ]
  },
  {
   "cell_type": "code",
   "execution_count": 36,
   "metadata": {},
   "outputs": [
    {
     "name": "stdout",
     "output_type": "stream",
     "text": [
      " 1.           Windranger      20881\n",
      " 2.         Shadow Fiend      17007\n",
      " 3.              Invoker      11676\n",
      " 4.          Earthshaker      11323\n",
      " 5.              Slardar      11181\n",
      " 6.        Queen of Pain      10590\n",
      " 7.           Juggernaut      10394\n",
      " 8.                 Tusk      10306\n",
      " 9.            Alchemist       9823\n",
      "10.                Pudge       9447\n"
     ]
    }
   ],
   "source": [
    "#\n",
    "# MOST PLAYED HEROES\n",
    "#\n",
    "\n",
    "hero_names = { hero[1]: hero[2] for hero in heroes }\n",
    "hero_count = {}\n",
    "\n",
    "for player in players:    \n",
    "    \n",
    "    #hero_id\n",
    "    player_key = player[2]\n",
    "    \n",
    "    #add key to dict if not present\n",
    "    if player_key not in hero_count:\n",
    "        hero_count[player_key] = 0\n",
    "    \n",
    "    #increment amount key was seen in dataset\n",
    "    hero_count[player_key] += 1\n",
    "    \n",
    "#sort by max value\n",
    "sorted_hero_count = sorted(hero_count.items(), key=lambda kv: kv[1])[::-1]\n",
    "\n",
    "place = 1\n",
    "for key, value in sorted_hero_count[0:10]:\n",
    "    #print(str(place) + \".\\t\", hero_names[key], \",\", value)\n",
    "    print(\"%2d. %20s %10s\" % (place, hero_names[key], value) )\n",
    "    place += 1\n",
    "\n"
   ]
  },
  {
   "cell_type": "code",
   "execution_count": null,
   "metadata": {},
   "outputs": [],
   "source": [
    "#\n",
    "# BEST WIN RATIO HERO\n",
    "#\n",
    "\n",
    "hero_names = { hero[1]: hero[2] for hero in heroes }\n",
    "hero_count = {}\n",
    "\n",
    "winning_games = { match_outcome[0]: match_outcome[1:3] for match_outcome in match_outcomes }\n",
    "\n",
    "print(winning_games)\n",
    "\n",
    "'''\n",
    "\n",
    "for player in players:    \n",
    "    \n",
    "    #hero_id\n",
    "    player_key = player[2]\n",
    "    match_key = player[0]\n",
    "    \n",
    "    \n",
    "    #add key to dict if not present\n",
    "    if player_key not in hero_count:\n",
    "        hero_count[player_key] = 0\n",
    "    \n",
    "    #increment amount key was seen in dataset\n",
    "    hero_count[player_key] += 1\n",
    "    \n",
    "#sort by max value\n",
    "sorted_hero_count = sorted(hero_count.items(), key=lambda kv: kv[1])[::-1]\n",
    "\n",
    "place = 1\n",
    "for key, value in sorted_hero_count[0:10]:\n",
    "    #print(str(place) + \".\\t\", hero_names[key], \",\", value)\n",
    "    print(\"%2d. %20s %10s\" % (place, hero_names[key], value) )\n",
    "    place += 1\n",
    "    \n",
    "    \n",
    "    '''"
   ]
  }
 ],
 "metadata": {
  "kernelspec": {
   "display_name": "Python 3",
   "language": "python",
   "name": "python3"
  },
  "language_info": {
   "codemirror_mode": {
    "name": "ipython",
    "version": 3
   },
   "file_extension": ".py",
   "mimetype": "text/x-python",
   "name": "python",
   "nbconvert_exporter": "python",
   "pygments_lexer": "ipython3",
   "version": "3.7.1"
  }
 },
 "nbformat": 4,
 "nbformat_minor": 2
}
