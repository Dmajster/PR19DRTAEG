{
 "cells": [
  {
   "cell_type": "markdown",
   "metadata": {},
   "source": [
    "# ***Dota 2 - Kaj vpliva na izid igre?***\n",
    "<br><br>\n",
    "**Ekipa**\n",
    "- Tim Androja\n",
    "- Erik Grubar\n",
    "- Domen Rostohar\n",
    "\n",
    "\n",
    "**Uvod**\n",
    "Kot nekdanji igralci igre dota 2, nas je podatkovna zbirka o preigranih igrah in podatkih o njih zelo navdušila. Igro smo že spoznali preko mnogih ur igranja, sedaj pa je bila seminarska naloga  odlična priložnost, da igro spoznamo tudi s strani podatkovnega rudarjenja. Ker je cilj te igre premagati svojega nasprotnika, smo se odločili, da bomo raziskali faktorje, ki najmočneje vplivajo na končen izid igre, oziroma ti izboljšajo tvoje možnosti za zmago. Zanimalo pa nas je tudi, če so stališča za katerimi smo mi stali in se po njih ravnali pravilna in te usmerjajo porti zmagi, ali pa smo se morda motili in si z njimi večali možnosti za poraz.\n",
    "\n",
    "**Izvedene analize**\n",
    "\n",
    "**Stran polja**\n",
    "\n",
    "Prvo idejo, ki smo preizkusili je ta, če ima začetna stran v polju kakšen vpliv na izid igre. Ob prvem pogledu na sliko polja bi pomislili, da polje nima vpliv na izid igre, saj izgleda simetrično. Izkaže pa se da če igraš na strani Radiant skoraj 4% boljše možnosti za zmago.\n",
    "\n",
    "<img src=\"slike/stran_polja_procent_zmage.png\">\n",
    "\n",
    "Zatem nas je zanimalo če se ta procent zmanjšuje/povečuje dlje kot določena igra traje. Izkazalo se je da ima Radiant prvih 40min večje možnosti za zmago, nato pa se možnosti izravnajo oziroma grejo možnosti rahlo v prid Dire.\n",
    "\n",
    "<img src=\"slike/stran_polja_cas_procent_zmage.png\">\n",
    "\n",
    "**Komunikacija ekipe**\n",
    "\n",
    "Druga ideja, ki smo jo preizkusili je, če zmagajo ekipe, ki več komunicirajo. Izkazalo se je da so ekipe, ki so komunicirale več zmagale 32846-krat, izgubile pa le 16926-krat (1.9x večje šanse za zmago). Ker so bili rezultati tako veliki, smo se odločili, da se vanje še bolj poglobimo.\n",
    "\n",
    "<img src=\"slike/komunikacija.png\">\n",
    "\n",
    "\n"
   ]
  },
  {
   "cell_type": "code",
   "execution_count": null,
   "metadata": {},
   "outputs": [],
   "source": []
  }
 ],
 "metadata": {
  "kernelspec": {
   "display_name": "Python 3",
   "language": "python",
   "name": "python3"
  },
  "language_info": {
   "codemirror_mode": {
    "name": "ipython",
    "version": 3
   },
   "file_extension": ".py",
   "mimetype": "text/x-python",
   "name": "python",
   "nbconvert_exporter": "python",
   "pygments_lexer": "ipython3",
   "version": "3.7.3"
  }
 },
 "nbformat": 4,
 "nbformat_minor": 2
}
